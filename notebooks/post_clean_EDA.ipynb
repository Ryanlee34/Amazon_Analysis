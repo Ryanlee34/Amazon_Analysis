{
 "cells": [
  {
   "cell_type": "code",
   "id": "initial_id",
   "metadata": {
    "collapsed": true,
    "ExecuteTime": {
     "end_time": "2025-02-21T01:25:42.047062Z",
     "start_time": "2025-02-21T01:25:42.038601Z"
    }
   },
   "source": [
    "import numpy as np\n",
    "import pandas as pd\n",
    "import seaborn as sns\n",
    "import matplotlib.pyplot as plt\n",
    "df = pd.read_csv( r\"C:\\Users\\ryanl\\OneDrive\\Desktop\\Resume Projects\\Amazon Product & Review Analysis\\data\\cleaned\\final_cleaned_data.csv\")\n"
   ],
   "outputs": [],
   "execution_count": 7
  },
  {
   "metadata": {},
   "cell_type": "markdown",
   "source": "# 1. Data Structure and Shape",
   "id": "af227983d7ebbc42"
  },
  {
   "metadata": {
    "ExecuteTime": {
     "end_time": "2025-02-21T01:25:47.304775Z",
     "start_time": "2025-02-21T01:25:47.301904Z"
    }
   },
   "cell_type": "code",
   "source": "df.shape",
   "id": "338f588d635b775d",
   "outputs": [
    {
     "data": {
      "text/plain": [
       "(1334, 9)"
      ]
     },
     "execution_count": 8,
     "metadata": {},
     "output_type": "execute_result"
    }
   ],
   "execution_count": 8
  },
  {
   "metadata": {
    "ExecuteTime": {
     "end_time": "2025-02-21T01:20:14.707971Z",
     "start_time": "2025-02-21T01:20:14.698705Z"
    }
   },
   "cell_type": "code",
   "source": "df.info()",
   "id": "a287d262de12d797",
   "outputs": [
    {
     "name": "stdout",
     "output_type": "stream",
     "text": [
      "<class 'pandas.core.frame.DataFrame'>\n",
      "RangeIndex: 1334 entries, 0 to 1333\n",
      "Data columns (total 9 columns):\n",
      " #   Column               Non-Null Count  Dtype  \n",
      "---  ------               --------------  -----  \n",
      " 0   product_id           1334 non-null   object \n",
      " 1   product_name         1334 non-null   object \n",
      " 2   main_category        1334 non-null   object \n",
      " 3   sub_category         1334 non-null   object \n",
      " 4   actual_price         1334 non-null   float64\n",
      " 5   discounted_price     1334 non-null   float64\n",
      " 6   discount_percentage  1334 non-null   float64\n",
      " 7   rating               1334 non-null   float64\n",
      " 8   rating_count         1334 non-null   float64\n",
      "dtypes: float64(5), object(4)\n",
      "memory usage: 93.9+ KB\n"
     ]
    }
   ],
   "execution_count": 3
  },
  {
   "metadata": {
    "ExecuteTime": {
     "end_time": "2025-02-21T01:20:22.486828Z",
     "start_time": "2025-02-21T01:20:22.481861Z"
    }
   },
   "cell_type": "code",
   "source": "df.isnull().sum()",
   "id": "d8117357b52b103a",
   "outputs": [
    {
     "data": {
      "text/plain": [
       "product_id             0\n",
       "product_name           0\n",
       "main_category          0\n",
       "sub_category           0\n",
       "actual_price           0\n",
       "discounted_price       0\n",
       "discount_percentage    0\n",
       "rating                 0\n",
       "rating_count           0\n",
       "dtype: int64"
      ]
     },
     "execution_count": 4,
     "metadata": {},
     "output_type": "execute_result"
    }
   ],
   "execution_count": 4
  },
  {
   "metadata": {},
   "cell_type": "markdown",
   "source": "# 2. Statistical Summary",
   "id": "8db9d2ac6d48abc1"
  },
  {
   "metadata": {
    "ExecuteTime": {
     "end_time": "2025-02-21T01:20:32.687311Z",
     "start_time": "2025-02-21T01:20:32.676827Z"
    }
   },
   "cell_type": "code",
   "source": "df.describe()",
   "id": "c22f570dbb372655",
   "outputs": [
    {
     "data": {
      "text/plain": [
       "       actual_price  discounted_price  discount_percentage       rating  \\\n",
       "count   1334.000000       1334.000000          1334.000000  1334.000000   \n",
       "mean      67.183628         39.453073            46.464393     4.091079   \n",
       "std      134.659779         86.401987            21.480457     0.296420   \n",
       "min        0.470000          0.470000             0.000000     2.000000   \n",
       "25%       10.790000          4.170000            31.000000     3.900000   \n",
       "50%       20.395000         10.455000            48.000000     4.100000   \n",
       "75%       52.600000         25.695000            62.000000     4.300000   \n",
       "max     1678.800000        940.130000            94.000000     5.000000   \n",
       "\n",
       "        rating_count  \n",
       "count    1334.000000  \n",
       "mean    17639.583583  \n",
       "std     42361.088455  \n",
       "min         2.000000  \n",
       "25%      1093.250000  \n",
       "50%      4703.000000  \n",
       "75%     15748.750000  \n",
       "max    426973.000000  "
      ],
      "text/html": [
       "<div>\n",
       "<style scoped>\n",
       "    .dataframe tbody tr th:only-of-type {\n",
       "        vertical-align: middle;\n",
       "    }\n",
       "\n",
       "    .dataframe tbody tr th {\n",
       "        vertical-align: top;\n",
       "    }\n",
       "\n",
       "    .dataframe thead th {\n",
       "        text-align: right;\n",
       "    }\n",
       "</style>\n",
       "<table border=\"1\" class=\"dataframe\">\n",
       "  <thead>\n",
       "    <tr style=\"text-align: right;\">\n",
       "      <th></th>\n",
       "      <th>actual_price</th>\n",
       "      <th>discounted_price</th>\n",
       "      <th>discount_percentage</th>\n",
       "      <th>rating</th>\n",
       "      <th>rating_count</th>\n",
       "    </tr>\n",
       "  </thead>\n",
       "  <tbody>\n",
       "    <tr>\n",
       "      <th>count</th>\n",
       "      <td>1334.000000</td>\n",
       "      <td>1334.000000</td>\n",
       "      <td>1334.000000</td>\n",
       "      <td>1334.000000</td>\n",
       "      <td>1334.000000</td>\n",
       "    </tr>\n",
       "    <tr>\n",
       "      <th>mean</th>\n",
       "      <td>67.183628</td>\n",
       "      <td>39.453073</td>\n",
       "      <td>46.464393</td>\n",
       "      <td>4.091079</td>\n",
       "      <td>17639.583583</td>\n",
       "    </tr>\n",
       "    <tr>\n",
       "      <th>std</th>\n",
       "      <td>134.659779</td>\n",
       "      <td>86.401987</td>\n",
       "      <td>21.480457</td>\n",
       "      <td>0.296420</td>\n",
       "      <td>42361.088455</td>\n",
       "    </tr>\n",
       "    <tr>\n",
       "      <th>min</th>\n",
       "      <td>0.470000</td>\n",
       "      <td>0.470000</td>\n",
       "      <td>0.000000</td>\n",
       "      <td>2.000000</td>\n",
       "      <td>2.000000</td>\n",
       "    </tr>\n",
       "    <tr>\n",
       "      <th>25%</th>\n",
       "      <td>10.790000</td>\n",
       "      <td>4.170000</td>\n",
       "      <td>31.000000</td>\n",
       "      <td>3.900000</td>\n",
       "      <td>1093.250000</td>\n",
       "    </tr>\n",
       "    <tr>\n",
       "      <th>50%</th>\n",
       "      <td>20.395000</td>\n",
       "      <td>10.455000</td>\n",
       "      <td>48.000000</td>\n",
       "      <td>4.100000</td>\n",
       "      <td>4703.000000</td>\n",
       "    </tr>\n",
       "    <tr>\n",
       "      <th>75%</th>\n",
       "      <td>52.600000</td>\n",
       "      <td>25.695000</td>\n",
       "      <td>62.000000</td>\n",
       "      <td>4.300000</td>\n",
       "      <td>15748.750000</td>\n",
       "    </tr>\n",
       "    <tr>\n",
       "      <th>max</th>\n",
       "      <td>1678.800000</td>\n",
       "      <td>940.130000</td>\n",
       "      <td>94.000000</td>\n",
       "      <td>5.000000</td>\n",
       "      <td>426973.000000</td>\n",
       "    </tr>\n",
       "  </tbody>\n",
       "</table>\n",
       "</div>"
      ]
     },
     "execution_count": 5,
     "metadata": {},
     "output_type": "execute_result"
    }
   ],
   "execution_count": 5
  },
  {
   "metadata": {
    "ExecuteTime": {
     "end_time": "2025-02-21T01:20:59.693552Z",
     "start_time": "2025-02-21T01:20:59.685145Z"
    }
   },
   "cell_type": "code",
   "source": "df.describe(include=['object'])",
   "id": "1ffa44e0107348ba",
   "outputs": [
    {
     "data": {
      "text/plain": [
       "        product_id                                       product_name  \\\n",
       "count         1334                                               1334   \n",
       "unique        1334                                               1334   \n",
       "top     B0BR4F878Q  swiffer instant electric water heater faucet t...   \n",
       "freq             1                                                  1   \n",
       "\n",
       "       main_category            sub_category  \n",
       "count           1334                    1334  \n",
       "unique             9                      29  \n",
       "top      electronics  kitchen&homeappliances  \n",
       "freq             476                     307  "
      ],
      "text/html": [
       "<div>\n",
       "<style scoped>\n",
       "    .dataframe tbody tr th:only-of-type {\n",
       "        vertical-align: middle;\n",
       "    }\n",
       "\n",
       "    .dataframe tbody tr th {\n",
       "        vertical-align: top;\n",
       "    }\n",
       "\n",
       "    .dataframe thead th {\n",
       "        text-align: right;\n",
       "    }\n",
       "</style>\n",
       "<table border=\"1\" class=\"dataframe\">\n",
       "  <thead>\n",
       "    <tr style=\"text-align: right;\">\n",
       "      <th></th>\n",
       "      <th>product_id</th>\n",
       "      <th>product_name</th>\n",
       "      <th>main_category</th>\n",
       "      <th>sub_category</th>\n",
       "    </tr>\n",
       "  </thead>\n",
       "  <tbody>\n",
       "    <tr>\n",
       "      <th>count</th>\n",
       "      <td>1334</td>\n",
       "      <td>1334</td>\n",
       "      <td>1334</td>\n",
       "      <td>1334</td>\n",
       "    </tr>\n",
       "    <tr>\n",
       "      <th>unique</th>\n",
       "      <td>1334</td>\n",
       "      <td>1334</td>\n",
       "      <td>9</td>\n",
       "      <td>29</td>\n",
       "    </tr>\n",
       "    <tr>\n",
       "      <th>top</th>\n",
       "      <td>B0BR4F878Q</td>\n",
       "      <td>swiffer instant electric water heater faucet t...</td>\n",
       "      <td>electronics</td>\n",
       "      <td>kitchen&amp;homeappliances</td>\n",
       "    </tr>\n",
       "    <tr>\n",
       "      <th>freq</th>\n",
       "      <td>1</td>\n",
       "      <td>1</td>\n",
       "      <td>476</td>\n",
       "      <td>307</td>\n",
       "    </tr>\n",
       "  </tbody>\n",
       "</table>\n",
       "</div>"
      ]
     },
     "execution_count": 6,
     "metadata": {},
     "output_type": "execute_result"
    }
   ],
   "execution_count": 6
  },
  {
   "metadata": {},
   "cell_type": "markdown",
   "source": "# 3. Column Analysis Values",
   "id": "408834eaa1b7b845"
  },
  {
   "metadata": {
    "ExecuteTime": {
     "end_time": "2025-02-21T01:30:58.182131Z",
     "start_time": "2025-02-21T01:30:58.044773Z"
    }
   },
   "cell_type": "code",
   "source": "sns.histplot(df['actual_price'], kde=True)",
   "id": "b44b0fee527064cc",
   "outputs": [
    {
     "data": {
      "text/plain": [
       "<Axes: xlabel='actual_price', ylabel='Count'>"
      ]
     },
     "execution_count": 11,
     "metadata": {},
     "output_type": "execute_result"
    },
    {
     "data": {
      "text/plain": [
       "<Figure size 640x480 with 1 Axes>"
      ],
      "image/png": "[encoded data removed]"
     },
     "metadata": {},
     "output_type": "display_data"
    }
   ],
   "execution_count": 11
  },
  {
   "metadata": {
    "ExecuteTime": {
     "end_time": "2025-02-21T01:38:58.991935Z",
     "start_time": "2025-02-21T01:38:58.945213Z"
    }
   },
   "cell_type": "code",
   "source": "sns.boxplot(x=df['actual_price'])",
   "id": "417a956dbd04cd3d",
   "outputs": [
    {
     "data": {
      "text/plain": [
       "<Axes: xlabel='actual_price'>"
      ]
     },
     "execution_count": 18,
     "metadata": {},
     "output_type": "execute_result"
    },
    {
     "data": {
      "text/plain": [
       "<Figure size 640x480 with 1 Axes>"
      ],
      "image/png": "[encoded data removed]"
     },
     "metadata": {},
     "output_type": "display_data"
    }
   ],
   "execution_count": 18
  },
  {
   "metadata": {
    "ExecuteTime": {
     "end_time": "2025-02-21T01:40:05.070614Z",
     "start_time": "2025-02-21T01:40:05.026314Z"
    }
   },
   "cell_type": "code",
   "source": "sns.boxplot(x=df['discounted_price'])",
   "id": "4a29b6c941161fc7",
   "outputs": [
    {
     "data": {
      "text/plain": [
       "<Axes: xlabel='discounted_price'>"
      ]
     },
     "execution_count": 19,
     "metadata": {},
     "output_type": "execute_result"
    },
    {
     "data": {
      "text/plain": [
       "<Figure size 640x480 with 1 Axes>"
      ],
      "image/png": "[encoded data removed]"
     },
     "metadata": {},
     "output_type": "display_data"
    }
   ],
   "execution_count": 19
  },
  {
   "metadata": {
    "ExecuteTime": {
     "end_time": "2025-02-21T01:54:46.026348Z",
     "start_time": "2025-02-21T01:54:45.954843Z"
    }
   },
   "cell_type": "code",
   "source": [
    "corr_matrix = df[['actual_price','discounted_price','discount_percentage']].corr()\n",
    "sns.heatmap(corr_matrix, annot=True, cmap='coolwarm', fmt='.2f')"
   ],
   "id": "2a64dd7e280adb29",
   "outputs": [
    {
     "data": {
      "text/plain": [
       "<Axes: >"
      ]
     },
     "execution_count": 28,
     "metadata": {},
     "output_type": "execute_result"
    },
    {
     "data": {
      "text/plain": [
       "<Figure size 640x480 with 2 Axes>"
      ],
      "image/png": "[encoded data removed]"
     },
     "metadata": {},
     "output_type": "display_data"
    }
   ],
   "execution_count": 28
  }
 ],
 "metadata": {
  "kernelspec": {
   "display_name": "Python 3",
   "language": "python",
   "name": "python3"
  },
  "language_info": {
   "codemirror_mode": {
    "name": "ipython",
    "version": 2
   },
   "file_extension": ".py",
   "mimetype": "text/x-python",
   "name": "python",
   "nbconvert_exporter": "python",
   "pygments_lexer": "ipython2",
   "version": "2.7.6"
  }
 },
 "nbformat": 4,
 "nbformat_minor": 5
}
